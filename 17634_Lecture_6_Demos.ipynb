{
  "nbformat": 4,
  "nbformat_minor": 0,
  "metadata": {
    "colab": {
      "provenance": []
    },
    "kernelspec": {
      "name": "python3",
      "display_name": "Python 3"
    },
    "language_info": {
      "name": "python"
    }
  },
  "cells": [
    {
      "cell_type": "markdown",
      "source": [
        "# KNN Demos\n",
        "Some demonstrations of the impact of changing the 'k' on k-NN decision boundaries. The slides show additional examples of the change in boundaries for different (numbers of) Gaussian inputs.\n"
      ],
      "metadata": {
        "id": "sEd9aU-9-Q8p"
      }
    },
    {
      "cell_type": "code",
      "execution_count": null,
      "metadata": {
        "id": "vnpe4UAlww7k"
      },
      "outputs": [],
      "source": [
        "import matplotlib.pyplot as plt\n",
        "import pandas as pd\n",
        "import numpy as np\n",
        "from sklearn import datasets, neighbors\n",
        "from mlxtend.plotting import plot_decision_regions\n",
        "\n",
        "plt.rcParams.update({'font.size': 14})\n",
        "plt.rcParams.update({'figure.figsize': (6, 6)})"
      ]
    },
    {
      "cell_type": "code",
      "source": [
        "# Borrowed from: https://towardsdatascience.com/knn-visualization-in-just-13-lines-of-code-32820d72c6b6\n",
        "def knn_comparison(data, k):\n",
        "  x = data[['X','Y']].values\n",
        "  y = data['Class'].astype(int).values\n",
        "  clf = neighbors.KNeighborsClassifier(n_neighbors=k)\n",
        "  clf.fit(x, y)\n",
        "\n",
        "  # Plotting decision region\n",
        "  plot_decision_regions(x, y, clf=clf, legend=2)\n",
        "\n",
        "  # Aesthetic updates.\n",
        "  plt.xlabel('X')\n",
        "  plt.ylabel('Y')\n",
        "  plt.title('Knn with K='+ str(k))\n",
        "  plt.show()"
      ],
      "metadata": {
        "id": "Qb6Gh3lfw0hm"
      },
      "execution_count": null,
      "outputs": []
    },
    {
      "cell_type": "code",
      "source": [
        "# Define our data structure, consisting of labeled Gaussian distributions.\n",
        "from dataclasses import dataclass\n",
        "from typing import Tuple\n",
        "\n",
        "@dataclass\n",
        "class Gaussian:\n",
        "  mean: Tuple[float, float]\n",
        "  stdev: Tuple[float, float]\n",
        "  label: int"
      ],
      "metadata": {
        "id": "xZfgp-cP0pBi"
      },
      "execution_count": null,
      "outputs": []
    },
    {
      "cell_type": "code",
      "source": [
        "# Create a copule of Gaussian distributions and sample data from them.\n",
        "gaussian_values = (\n",
        "    Gaussian(mean=(0, 3), stdev=(3, 3), label=0),\n",
        "    Gaussian(mean=(0, -2), stdev=(3, 1), label=1),\n",
        "    Gaussian(mean=(2, -5), stdev=(1, 1), label=0),\n",
        ")\n",
        "\n",
        "samples_per_gaussian = 50  # What happens if we make this way larger?\n",
        "data = []\n",
        "for gaussian in gaussian_values:\n",
        "  samples = np.random.normal(loc=gaussian.mean, scale=gaussian.stdev, size=(samples_per_gaussian, 2))\n",
        "  labels = np.array([[gaussian.label]] * samples_per_gaussian)\n",
        "  data.extend(np.concatenate([samples, labels], axis=1))"
      ],
      "metadata": {
        "id": "5EW021oAw3w3"
      },
      "execution_count": null,
      "outputs": []
    },
    {
      "cell_type": "code",
      "source": [
        "# Frame the data and visualize decision boundaries for various values of k\n",
        "df = pd.DataFrame(data,   columns=('X', 'Y', 'Class'))\n",
        "for i in (1, 5, 20, 30):\n",
        "  knn_comparison(df, i)"
      ],
      "metadata": {
        "id": "bzyFLw2j1tsp"
      },
      "execution_count": null,
      "outputs": []
    }
  ]
}